{
 "cells": [
  {
   "cell_type": "code",
   "execution_count": 14,
   "id": "3eca00de",
   "metadata": {},
   "outputs": [],
   "source": [
    "# Import modules\n",
    "import pandas as pd\n",
    "import matplotlib.pyplot as plt\n",
    "import matplotlib.ticker as mticker\n",
    "\n",
    "from sklearn.metrics import accuracy_score\n",
    "from sklearn.model_selection import train_test_split\n",
    "from sklearn.preprocessing import LabelEncoder\n",
    "from sklearn.ensemble import RandomForestClassifier\n",
    "from sklearn.linear_model import LogisticRegression\n",
    "from sklearn.metrics import accuracy_score\n",
    "from data_loader import DataLoader"
   ]
  },
  {
   "cell_type": "code",
   "execution_count": 10,
   "id": "f6d6571c",
   "metadata": {},
   "outputs": [
    {
     "name": "stdout",
     "output_type": "stream",
     "text": [
      "Kind Legend:\n",
      "0: bug\n",
      "1: enhancement\n",
      "2: feature\n",
      "3: question\n",
      "4: refactor\n",
      "5: release\n",
      "6: unknown\n",
      "   kind_encoded  reopened\n",
      "0             0         0\n",
      "1             6         0\n",
      "2             0         0\n",
      "3             0         0\n",
      "4             0         0\n"
     ]
    }
   ],
   "source": [
    "# Load the JSON data into a DataFrame\n",
    "df = pd.read_json('./poetryData/poetry_issues_all.json')\n",
    "\n",
    "# Function to extract the kind value from the 'labels' list.\n",
    "def extract_kind(labels):\n",
    "    if isinstance(labels, list):\n",
    "        # Look for a label that starts with 'kind/'\n",
    "        for lab in labels:\n",
    "            if lab.startswith('kind/'):\n",
    "                # Return everything after \"kind/\"\n",
    "                return lab.split('kind/')[1]\n",
    "    return 'unknown'\n",
    "\n",
    "# Function to determine if the 'reopened' event label is present.\n",
    "def check_reopened(row):\n",
    "    # Access the events from the row if present, else default to an empty list.\n",
    "    events = row.get('events', [])\n",
    "    if isinstance(events, list):\n",
    "        for event in events:\n",
    "            if event.get('event_type') == 'reopened':\n",
    "                return 1\n",
    "    return 0\n",
    "\n",
    "# Create new data frame for the 'kind' and reopened.\n",
    "df['kind'] = df['labels'].apply(extract_kind)\n",
    "df['reopened'] = df.apply(check_reopened, axis=1)\n",
    "\n",
    "# Ensure 'kind' columns are strings\n",
    "df['kind'] = df['kind'].astype(str)\n",
    "\n",
    "# Apply LabelEncoder to 'kind' and 'state' columns\n",
    "label_encoder = LabelEncoder()\n",
    "df['kind_encoded'] = label_encoder.fit_transform(df['kind'])\n",
    "\n",
    "# Create a legend for 'kind' labels\n",
    "kind_legend = dict(enumerate(label_encoder.classes_))\n",
    "print(\"Kind Legend:\")\n",
    "for key, value in kind_legend.items():\n",
    "    print(f\"{key}: {value}\")\n",
    "\n",
    "# Build the  DataFrame with the selected columns: kind, state, text_length, time_diff_min, and reopened.\n",
    "new_df = df[['kind_encoded', 'reopened']]\n",
    "\n",
    "# Display the first few rows of the  DataFrame\n",
    "print( new_df.head())"
   ]
  },
  {
   "cell_type": "code",
   "execution_count": null,
   "id": "bdcb42ef",
   "metadata": {},
   "outputs": [],
   "source": [
    "# Update predictors to use the encoded columns\n",
    "predictor = new_df[['kind_encoded']]\n",
    "target = new_df['reopened']\n",
    "\n",
    "# Split and test the dataset\n",
    "X_train, X_test, y_train, y_test = train_test_split(\n",
    "    predictor, target,\n",
    "    test_size=1/3, random_state=42\n",
    ")"
   ]
  },
  {
   "cell_type": "code",
   "execution_count": null,
   "id": "a29403c2",
   "metadata": {},
   "outputs": [],
   "source": [
    "# Model: RandomForestClassifier\n",
    "model = RandomForestClassifier(random_state=42)\n",
    "# model = LogisticRegression(random_state=42)\n",
    "model.fit(X_train, y_train)\n",
    "\n",
    "# Predictions, evaluation, and score\n",
    "y_pred = model.predict(X_test)\n",
    "accuracy = accuracy_score(y_test, y_pred)\n",
    "print(f\"\\nAccuracy: {accuracy*100:.2f}\")\n",
    "\n",
    "# print(\"\\nClassification Report:\\n\", classification_report(y_test, y_pred))"
   ]
  },
  {
   "cell_type": "code",
   "execution_count": null,
   "id": "e9315c52",
   "metadata": {},
   "outputs": [],
   "source": [
    "# We compute the predicted probability of reopening for each sample in the full dataset\n",
    "new_df['predicted_prob'] = model.predict_proba(new_df[['kind_encoded']])[:, 1]\n",
    "\n",
    "# Group the data by the encoded 'kind' and calculate the average predicted probability\n",
    "grouped_probs = new_df.groupby('kind_encoded')['predicted_prob'].mean().reset_index()\n",
    "\n",
    "# Map encoded values to their original kind names\n",
    "grouped_probs['kind'] = grouped_probs['kind_encoded'].apply(lambda x: kind_legend.get(x, 'unknown'))\n",
    "\n",
    "# Plot the bar chart using the actual kind names for the x-axis labels\n",
    "plt.figure(figsize=(8, 6))\n",
    "plt.bar(grouped_probs['kind'], grouped_probs['predicted_prob'])\n",
    "plt.xlabel('Issue Kind')\n",
    "plt.ylabel('Predicted Probability of Reopen')\n",
    "plt.gca().yaxis.set_major_formatter(mticker.FuncFormatter(lambda x, pos: f'{x*100:.0f}%'))\n",
    "plt.title('Predicted reopen probability by issue kind')\n",
    "plt.xticks(rotation=45)\n",
    "plt.tight_layout()\n",
    "plt.show()"
   ]
  },
  {
   "cell_type": "code",
   "execution_count": 15,
   "id": "04823f69",
   "metadata": {},
   "outputs": [
    {
     "name": "stdout",
     "output_type": "stream",
     "text": [
      "                                        0\n",
      "0  <model.Issue object at 0x7f9ca00960e0>\n",
      "1  <model.Issue object at 0x7f9ca0094d00>\n",
      "2  <model.Issue object at 0x7f9ce1aaf190>\n",
      "3  <model.Issue object at 0x7f9ce1aaf4f0>\n",
      "4  <model.Issue object at 0x7f9ce1aafcd0>\n",
      "The 'labels' column is missing. Adding a default value.\n"
     ]
    }
   ],
   "source": [
    "def extract_kind(labels):\n",
    "    if isinstance(labels, list):\n",
    "        # Look for a label that starts with 'kind/'\n",
    "        for lab in labels:\n",
    "            if lab.startswith('kind/'):\n",
    "                # Return everything after \"kind/\"\n",
    "                return lab.split('kind/')[1]\n",
    "    return 'unknown'\n",
    "\n",
    "raw_data = DataLoader().get_issues()\n",
    "df = pd.DataFrame(raw_data)  # Convert to DataFrame\n",
    "print(df.head())  # Debugging: Check the structure of the DataFrame\n",
    "\n",
    "# Check if 'labels' column exists\n",
    "if 'labels' not in df.columns:\n",
    "    print(\"The 'labels' column is missing. Adding a default value.\")\n",
    "    df['labels'] = [[] for _ in range(len(df))]  # Add a default empty list for each row\n",
    "\n",
    "# Apply the extract_kind function (already defined in CELL INDEX: 1)\n",
    "df['kind'] = df['labels'].apply(extract_kind)"
   ]
  }
 ],
 "metadata": {
  "kernelspec": {
   "display_name": "base",
   "language": "python",
   "name": "python3"
  },
  "language_info": {
   "codemirror_mode": {
    "name": "ipython",
    "version": 3
   },
   "file_extension": ".py",
   "mimetype": "text/x-python",
   "name": "python",
   "nbconvert_exporter": "python",
   "pygments_lexer": "ipython3",
   "version": "3.10.9"
  }
 },
 "nbformat": 4,
 "nbformat_minor": 5
}
